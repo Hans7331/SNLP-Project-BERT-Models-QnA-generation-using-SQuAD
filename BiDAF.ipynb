{
 "cells": [
  {
   "cell_type": "markdown",
   "id": "26222fd0",
   "metadata": {},
   "source": [
    "<h1><center>BiDAF Model</center></h1>"
   ]
  },
  {
   "cell_type": "markdown",
   "id": "42e42c50",
   "metadata": {},
   "source": [
    "Installing **allennlp** module required for BiDAF model."
   ]
  },
  {
   "cell_type": "code",
   "execution_count": 5,
   "id": "2412204e",
   "metadata": {},
   "outputs": [],
   "source": [
    "#!pip install allennlp==1.0.0 allennlp-models==1.0.0"
   ]
  },
  {
   "cell_type": "code",
   "execution_count": null,
   "id": "0101808b",
   "metadata": {},
   "outputs": [],
   "source": [
    "from allennlp.predictors.predictor import Predictor\n",
    "import json\n",
    "import pandas as pd"
   ]
  },
  {
   "cell_type": "markdown",
   "id": "3c03457c",
   "metadata": {},
   "source": [
    "Fetching the bidaf model"
   ]
  },
  {
   "cell_type": "code",
   "execution_count": null,
   "id": "69eb4425",
   "metadata": {},
   "outputs": [],
   "source": [
    "predictor = Predictor.from_path(\"https://storage.googleapis.com/allennlp-public-models/bidaf-model-2020.03.19.tar.gz\")"
   ]
  },
  {
   "cell_type": "markdown",
   "id": "b27d46dc",
   "metadata": {},
   "source": [
    "Function for pre-processing the input text."
   ]
  },
  {
   "cell_type": "code",
   "execution_count": null,
   "id": "8489fbda",
   "metadata": {},
   "outputs": [],
   "source": [
    "def norm_text(text):\n",
    "    text = text.lower()\n",
    "    text = \"\".join(ch for ch in text if ch not in set(string.punctuation))\n",
    "    text = re.sub(re.compile(r\"\\b(a|an|the)\\b\", re.UNICODE), \" \", text)\n",
    "    text = \" \".join(text.split())\n",
    "    return text"
   ]
  },
  {
   "cell_type": "markdown",
   "id": "be20f03e",
   "metadata": {},
   "source": [
    "F1-score function used as evaluation metric"
   ]
  },
  {
   "cell_type": "code",
   "execution_count": null,
   "id": "eda969cd",
   "metadata": {},
   "outputs": [],
   "source": [
    "def f1(prediction, answer):\n",
    "    prediction = prediction.split()\n",
    "    answer = answer.split()\n",
    "    \n",
    "    if len(prediction) == 0 or len(answer) == 0:\n",
    "        return int(pred_tokens == truth_tokens)\n",
    "    \n",
    "    c = set(prediction) & set(answer)\n",
    "    if(len(c) == 0):\n",
    "        return 0\n",
    "    \n",
    "    precision = len(c) / len(prediction)\n",
    "    recall = len(c) / len(answer)\n",
    "    return round(2 * (precision * recall) / (precision + recall), 2)"
   ]
  },
  {
   "cell_type": "markdown",
   "id": "dc82592c",
   "metadata": {},
   "source": [
    "Helper function predicting and displaying F1-score and Exact Match score."
   ]
  },
  {
   "cell_type": "code",
   "execution_count": null,
   "id": "6a860e22",
   "metadata": {},
   "outputs": [],
   "source": [
    "def question_answer(context, question,answer, prediction):\n",
    "    em_score = bool(norm_text(prediction) == norm_text(answer))\n",
    "    f1_score = f1(norm_text(prediction), norm_text(answer))\n",
    "\n",
    "    print(question)\n",
    "    print(prediction)\n",
    "    print(answer)\n",
    "    print(em_score)\n",
    "    print(f1_score)\n",
    "\n",
    "    return question, prediction, answer, em_score, f1_score"
   ]
  },
  {
   "cell_type": "markdown",
   "id": "83e0f131",
   "metadata": {},
   "source": [
    "Loading the Validation data in proper format."
   ]
  },
  {
   "cell_type": "code",
   "execution_count": null,
   "id": "6b095761",
   "metadata": {},
   "outputs": [],
   "source": [
    "valid_path = 'dev-v2.0.json'\n",
    "\n",
    "with open(valid_path, 'rb') as f:\n",
    "    squad = json.load(f)\n",
    "\n",
    "valid_contexts, valid_questions,valid_answers = [],[],[]\n",
    "\n",
    "for group in squad['data']:\n",
    "    for passage in group['paragraphs']:\n",
    "        context = passage['context']\n",
    "        for qa in passage['qas']:\n",
    "            question = qa['question']\n",
    "            for answer in qa['answers']:\n",
    "                valid_contexts.append(context)\n",
    "                valid_questions.append(question)\n",
    "                valid_answers.append(answer)"
   ]
  },
  {
   "cell_type": "markdown",
   "id": "1a05a261",
   "metadata": {},
   "source": [
    "Result DataFrame used for Saving the output in a csv file."
   ]
  },
  {
   "cell_type": "code",
   "execution_count": null,
   "id": "6d66bf54",
   "metadata": {},
   "outputs": [],
   "source": [
    "Result = pd.DataFrame()\n",
    "Q_L, P_L, A_L, E_L, F_L = [],[],[],[],[]"
   ]
  },
  {
   "cell_type": "code",
   "execution_count": null,
   "id": "e9ff1594",
   "metadata": {},
   "outputs": [],
   "source": [
    "for context,question,ans in zip(valid_contexts, valid_questions, valid_answers):\n",
    "    Q,P,A,E,F = question_answer(context, question,ans['text'])\n",
    "    Q_L.append(Q)\n",
    "    P_L.append(P)\n",
    "    A_L.append(A)\n",
    "    E_L.append(E)\n",
    "    F_L.append(F)"
   ]
  },
  {
   "cell_type": "code",
   "execution_count": null,
   "id": "f824a919",
   "metadata": {},
   "outputs": [],
   "source": [
    "Result['Question'] = Q_L\n",
    "Result['Prediction'] = P_L\n",
    "Result['True Answer'] = A_L\n",
    "Result['Exact match'] = E_L\n",
    "Result['F1 score'] = F_L\n",
    "\n",
    "Result.to_csv(r\"bidaf.csv\")"
   ]
  },
  {
   "cell_type": "code",
   "execution_count": null,
   "id": "40c9de1a",
   "metadata": {},
   "outputs": [],
   "source": [
    "context = \"\"\"Harry Potter is a series of seven fantasy novels written by British author J. K. Rowling. The novels chronicle \n",
    "             the lives of a young wizard, Harry Potter, and his friends Hermione Granger and Ron Weasley, all of whom are \n",
    "             students at Hogwarts School of Witchcraft and Wizardry. The main story arc concerns Harry's struggle against \n",
    "             Lord Voldemort, a dark wizard who intends to become immortal, overthrow the wizard governing body known as the \n",
    "             Ministry of Magic and subjugate all wizards and Muggles (non-magical people). The series was originally published \n",
    "             in English by Bloomsbury in the United Kingdom and Scholastic Press in the United States. All versions around the\n",
    "             world are printed by Grafica Veneta in Italy. A series of many genres, including fantasy, drama, coming of age, \n",
    "             and the British school story (which includes elements of mystery, thriller, adventure, horror, and romance), the \n",
    "             world of Harry Potter explores numerous themes and includes many cultural meanings and references. According to \n",
    "             Rowling, the main theme is death. Other major themes in the series include prejudice, corruption, and madness.\"\"\"\n",
    "\n",
    "\n",
    "questions = [\"Where do Harry and his friends study?\", \n",
    "             \"What is the main theme of Harry Potter?\", \n",
    "             \"Who originally published Harry Potter in United Kingdon?\", \n",
    "             \"how many novels are there in Harry Potter?\", \n",
    "             \"Who are Harry Potter's friends?\",\n",
    "             \"Who is Lord Voldemort?\"] \n",
    " \n",
    "answers = [\"Hogwarts School of Witchcraft and Wizardry\", \n",
    "           \"death\", \n",
    "           \"Bloomsbury\",  \n",
    "           \"seven\", \n",
    "           \"Hermione Granger and Ron Weasley\", \n",
    "           \"a dark wizard who intends to become immortal, overthrow the wizard governing body known as the Ministry of Magic and subjugate all wizards and Muggles\" ]\n",
    "\n",
    "\n",
    "for question, answer in zip(questions, answers):\n",
    "    question_answer(context, question, answer)"
   ]
  }
 ],
 "metadata": {
  "hide_input": false,
  "kernelspec": {
   "display_name": "Python 3 (ipykernel)",
   "language": "python",
   "name": "python3"
  },
  "language_info": {
   "codemirror_mode": {
    "name": "ipython",
    "version": 3
   },
   "file_extension": ".py",
   "mimetype": "text/x-python",
   "name": "python",
   "nbconvert_exporter": "python",
   "pygments_lexer": "ipython3",
   "version": "3.9.7"
  }
 },
 "nbformat": 4,
 "nbformat_minor": 5
}
