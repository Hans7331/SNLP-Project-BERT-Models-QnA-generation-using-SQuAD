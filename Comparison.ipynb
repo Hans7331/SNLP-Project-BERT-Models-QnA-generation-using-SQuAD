{
 "cells": [
  {
   "cell_type": "code",
   "execution_count": 32,
   "id": "50312c16",
   "metadata": {},
   "outputs": [],
   "source": [
    "import numpy as np\n",
    "import pandas as pd\n",
    "import matplotlib.pyplot as plt"
   ]
  },
  {
   "cell_type": "code",
   "execution_count": 33,
   "id": "e1830dad",
   "metadata": {},
   "outputs": [],
   "source": [
    "baseline = pd.read_csv(r\"baseline.csv\")\n",
    "finetuned = pd.read_csv(r\"baseline_finetuned_pretrained.csv\")\n",
    "trained = pd.read_csv(r\"trained_bert.csv\")\n",
    "bidaf = pd.read_csv(r\"bidaf.csv\")"
   ]
  },
  {
   "cell_type": "code",
   "execution_count": 34,
   "id": "c42c0593",
   "metadata": {},
   "outputs": [],
   "source": [
    "def stuff(data):\n",
    "    N = len(data)\n",
    "    em = np.sum(list(data['Exact match']))\n",
    "    f1 = np.mean(data['F1 score'])    \n",
    "    return round(em/N,4)*100, round(f1,3), N"
   ]
  },
  {
   "cell_type": "code",
   "execution_count": 35,
   "id": "b2945020",
   "metadata": {},
   "outputs": [],
   "source": [
    "Out = pd.DataFrame()\n",
    "Model, EM, F1, Len = [],[],[],[]\n",
    "name = ['baseline', 'finetuned', 'trained', 'bidaf']\n",
    "\n",
    "for idx,data in enumerate([baseline, finetuned, trained, bidaf]):\n",
    "    em,f1,ln = stuff(data)\n",
    "    Model.append(name[idx])\n",
    "    EM.append(em)\n",
    "    F1.append(f1)\n",
    "    Len.append(ln)\n",
    "\n",
    "Out['Model Name'] = Model\n",
    "Out['Exact Match %'] = EM\n",
    "Out['F1 Score Mean'] = F1\n",
    "Out['Total'] = Len"
   ]
  },
  {
   "cell_type": "code",
   "execution_count": 36,
   "id": "e1885bc7",
   "metadata": {},
   "outputs": [
    {
     "data": {
      "text/html": [
       "<div>\n",
       "<style scoped>\n",
       "    .dataframe tbody tr th:only-of-type {\n",
       "        vertical-align: middle;\n",
       "    }\n",
       "\n",
       "    .dataframe tbody tr th {\n",
       "        vertical-align: top;\n",
       "    }\n",
       "\n",
       "    .dataframe thead th {\n",
       "        text-align: right;\n",
       "    }\n",
       "</style>\n",
       "<table border=\"1\" class=\"dataframe\">\n",
       "  <thead>\n",
       "    <tr style=\"text-align: right;\">\n",
       "      <th></th>\n",
       "      <th>Model Name</th>\n",
       "      <th>Exact Match %</th>\n",
       "      <th>F1 Score Mean</th>\n",
       "      <th>Total</th>\n",
       "    </tr>\n",
       "  </thead>\n",
       "  <tbody>\n",
       "    <tr>\n",
       "      <th>1</th>\n",
       "      <td>finetuned</td>\n",
       "      <td>63.11</td>\n",
       "      <td>0.767</td>\n",
       "      <td>1667</td>\n",
       "    </tr>\n",
       "    <tr>\n",
       "      <th>3</th>\n",
       "      <td>bidaf</td>\n",
       "      <td>53.72</td>\n",
       "      <td>0.684</td>\n",
       "      <td>20302</td>\n",
       "    </tr>\n",
       "    <tr>\n",
       "      <th>2</th>\n",
       "      <td>trained</td>\n",
       "      <td>10.89</td>\n",
       "      <td>0.170</td>\n",
       "      <td>5544</td>\n",
       "    </tr>\n",
       "    <tr>\n",
       "      <th>0</th>\n",
       "      <td>baseline</td>\n",
       "      <td>0.00</td>\n",
       "      <td>0.025</td>\n",
       "      <td>2810</td>\n",
       "    </tr>\n",
       "  </tbody>\n",
       "</table>\n",
       "</div>"
      ],
      "text/plain": [
       "  Model Name  Exact Match %  F1 Score Mean  Total\n",
       "1  finetuned          63.11          0.767   1667\n",
       "3      bidaf          53.72          0.684  20302\n",
       "2    trained          10.89          0.170   5544\n",
       "0   baseline           0.00          0.025   2810"
      ]
     },
     "execution_count": 36,
     "metadata": {},
     "output_type": "execute_result"
    }
   ],
   "source": [
    "Out = Out.sort_values('Exact Match %', ascending = False)\n",
    "Out"
   ]
  },
  {
   "cell_type": "code",
   "execution_count": 42,
   "id": "a4434d67",
   "metadata": {},
   "outputs": [
    {
     "data": {
      "text/html": [
       "<div>\n",
       "<style scoped>\n",
       "    .dataframe tbody tr th:only-of-type {\n",
       "        vertical-align: middle;\n",
       "    }\n",
       "\n",
       "    .dataframe tbody tr th {\n",
       "        vertical-align: top;\n",
       "    }\n",
       "\n",
       "    .dataframe thead th {\n",
       "        text-align: right;\n",
       "    }\n",
       "</style>\n",
       "<table border=\"1\" class=\"dataframe\">\n",
       "  <thead>\n",
       "    <tr style=\"text-align: right;\">\n",
       "      <th></th>\n",
       "      <th>Unnamed: 0</th>\n",
       "      <th>Question</th>\n",
       "      <th>Prediction</th>\n",
       "      <th>True Answer</th>\n",
       "      <th>Exact match</th>\n",
       "      <th>F1 score</th>\n",
       "    </tr>\n",
       "  </thead>\n",
       "  <tbody>\n",
       "    <tr>\n",
       "      <th>0</th>\n",
       "      <td>0</td>\n",
       "      <td>In what country is Normandy located?</td>\n",
       "      <td>francia . through generations of assimilation ...</td>\n",
       "      <td>France</td>\n",
       "      <td>False</td>\n",
       "      <td>0.00</td>\n",
       "    </tr>\n",
       "    <tr>\n",
       "      <th>1</th>\n",
       "      <td>1</td>\n",
       "      <td>In what country is Normandy located?</td>\n",
       "      <td>were the people who in the 10th and 11th centu...</td>\n",
       "      <td>France</td>\n",
       "      <td>False</td>\n",
       "      <td>0.02</td>\n",
       "    </tr>\n",
       "    <tr>\n",
       "      <th>2</th>\n",
       "      <td>2</td>\n",
       "      <td>In what country is Normandy located?</td>\n",
       "      <td>,</td>\n",
       "      <td>France</td>\n",
       "      <td>False</td>\n",
       "      <td>0.00</td>\n",
       "    </tr>\n",
       "    <tr>\n",
       "      <th>3</th>\n",
       "      <td>3</td>\n",
       "      <td>In what country is Normandy located?</td>\n",
       "      <td>Not Found</td>\n",
       "      <td>France</td>\n",
       "      <td>False</td>\n",
       "      <td>0.00</td>\n",
       "    </tr>\n",
       "    <tr>\n",
       "      <th>4</th>\n",
       "      <td>4</td>\n",
       "      <td>When were the Normans in Normandy?</td>\n",
       "      <td>Not Found</td>\n",
       "      <td>10th and 11th centuries</td>\n",
       "      <td>False</td>\n",
       "      <td>0.00</td>\n",
       "    </tr>\n",
       "  </tbody>\n",
       "</table>\n",
       "</div>"
      ],
      "text/plain": [
       "   Unnamed: 0                              Question  \\\n",
       "0           0  In what country is Normandy located?   \n",
       "1           1  In what country is Normandy located?   \n",
       "2           2  In what country is Normandy located?   \n",
       "3           3  In what country is Normandy located?   \n",
       "4           4    When were the Normans in Normandy?   \n",
       "\n",
       "                                          Prediction              True Answer  \\\n",
       "0  francia . through generations of assimilation ...                   France   \n",
       "1  were the people who in the 10th and 11th centu...                   France   \n",
       "2                                                  ,                   France   \n",
       "3                                          Not Found                   France   \n",
       "4                                          Not Found  10th and 11th centuries   \n",
       "\n",
       "   Exact match  F1 score  \n",
       "0        False      0.00  \n",
       "1        False      0.02  \n",
       "2        False      0.00  \n",
       "3        False      0.00  \n",
       "4        False      0.00  "
      ]
     },
     "execution_count": 42,
     "metadata": {},
     "output_type": "execute_result"
    }
   ],
   "source": [
    "baseline.head()"
   ]
  },
  {
   "cell_type": "code",
   "execution_count": 44,
   "id": "9da7a8c3",
   "metadata": {},
   "outputs": [
    {
     "data": {
      "text/plain": [
       "<AxesSubplot:>"
      ]
     },
     "execution_count": 44,
     "metadata": {},
     "output_type": "execute_result"
    },
    {
     "data": {
      "image/png": "[encoded data removed]",
      "text/plain": [
       "<Figure size 432x288 with 1 Axes>"
      ]
     },
     "metadata": {
      "needs_background": "light"
     },
     "output_type": "display_data"
    }
   ],
   "source": [
    "finetuned['F1 score'].plot()"
   ]
  },
  {
   "cell_type": "code",
   "execution_count": 46,
   "id": "8203c61e",
   "metadata": {},
   "outputs": [
    {
     "data": {
      "text/plain": [
       "<AxesSubplot:>"
      ]
     },
     "execution_count": 46,
     "metadata": {},
     "output_type": "execute_result"
    },
    {
     "data": {
      "image/png": "[encoded data removed]",
      "text/plain": [
       "<Figure size 432x288 with 1 Axes>"
      ]
     },
     "metadata": {
      "needs_background": "light"
     },
     "output_type": "display_data"
    }
   ],
   "source": [
    "bidaf['F1 score'].plot()"
   ]
  },
  {
   "cell_type": "code",
   "execution_count": null,
   "id": "cc5b09a1",
   "metadata": {},
   "outputs": [],
   "source": []
  }
 ],
 "metadata": {
  "kernelspec": {
   "display_name": "Python (myenv)",
   "language": "python",
   "name": "myenv"
  },
  "language_info": {
   "codemirror_mode": {
    "name": "ipython",
    "version": 3
   },
   "file_extension": ".py",
   "mimetype": "text/x-python",
   "name": "python",
   "nbconvert_exporter": "python",
   "pygments_lexer": "ipython3",
   "version": "3.10.4"
  }
 },
 "nbformat": 4,
 "nbformat_minor": 5
}
